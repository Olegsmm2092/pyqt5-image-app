{
 "cells": [
  {
   "cell_type": "code",
   "execution_count": null,
   "metadata": {},
   "outputs": [],
   "source": []
  },
  {
   "cell_type": "code",
   "execution_count": 2,
   "metadata": {},
   "outputs": [
    {
     "data": {
      "text/plain": [
       "0"
      ]
     },
     "execution_count": 2,
     "metadata": {},
     "output_type": "execute_result"
    }
   ],
   "source": [
    "from PyQt5.QtWidgets import QApplication, QWidget, QLabel, QPushButton, QListWidget, QComboBox, \\\n",
    "QHBoxLayout, QVBoxLayout\n",
    "from PyQt5.QtCore import Qt\n",
    "\n",
    "# App Settings\n",
    "app = QApplication([])\n",
    "root = QWidget()\n",
    "root.setWindowTitle(\"Lens\")\n",
    "root.resize(901, 701)\n",
    "\n",
    "\n",
    "# All app widgets/objects\n",
    "btn_folder = QPushButton(\"Folder\")\n",
    "file_list = QListWidget()\n",
    "\n",
    "# rotation\n",
    "btn_left = QPushButton(\"Rotate Left\")\n",
    "btn_right = QPushButton(\"Rotate Right\")\n",
    "mirror = QPushButton(\"Mirror\")\n",
    "sharpness = QPushButton(\"Adjust Sharpen\")\n",
    "gray = QPushButton(\"B/W\")\n",
    "saturation = QPushButton(\"Adj Saturation\")\n",
    "contrast = QPushButton(\"Adj Contrast\")\n",
    "blur = QPushButton(\"Apply Blur\")\n",
    "\n",
    "\n",
    "# Dropdown box\n",
    "filter_box = QComboBox()\n",
    "filter_box.addItems(\"\"\"Rotate Left\n",
    "Rotate Right\n",
    "Mirror\")\n",
    "Adjust Sharpen\n",
    "B/W\n",
    "Adj Saturation\n",
    "Adj Contrast\n",
    "Apply Blur\"\"\".split(\"\\n\"))\n",
    "\n",
    "picture_box = QLabel(\"Picture Display Area\") # im will appear here\n",
    "\n",
    "\n",
    "# App Design\n",
    "master_layout = QHBoxLayout()\n",
    "\n",
    "left_layout = QVBoxLayout()\n",
    "right_layout = QVBoxLayout()\n",
    "\n",
    "left_layout.addWidget(btn_folder)\n",
    "left_layout.addWidget(file_list)\n",
    "left_layout.addWidget(filter_box)\n",
    "left_layout.addWidget(btn_left)\n",
    "left_layout.addWidget(btn_right)\n",
    "left_layout.addWidget(mirror)\n",
    "left_layout.addWidget(sharpness)\n",
    "left_layout.addWidget(gray)\n",
    "left_layout.addWidget(saturation)\n",
    "left_layout.addWidget(contrast)\n",
    "left_layout.addWidget(blur)\n",
    "right_layout.addWidget(picture_box)\n",
    "\n",
    "master_layout.addLayout(left_layout, 1)\n",
    "master_layout.addLayout(right_layout, 4)\n",
    "\n",
    "root.setLayout(master_layout)\n",
    "\n",
    "\n",
    "\n",
    "\n",
    "\n",
    "\n",
    "\n",
    "root.show()\n",
    "app.exec_()"
   ]
  },
  {
   "cell_type": "code",
   "execution_count": 1,
   "metadata": {},
   "outputs": [
    {
     "data": {
      "text/plain": [
       "['Rotate Left',\n",
       " 'Rotate Right',\n",
       " 'Mirror',\n",
       " 'Adjust Sharpen',\n",
       " 'B/W',\n",
       " 'Adj Saturation',\n",
       " 'Adj Contrast',\n",
       " 'Apply Blur']"
      ]
     },
     "execution_count": 1,
     "metadata": {},
     "output_type": "execute_result"
    }
   ],
   "source": [
    "\"\"\"Rotate Left\n",
    "Rotate Right\n",
    "Mirror\n",
    "Adjust Sharpen\n",
    "B/W\n",
    "Adj Saturation\n",
    "Adj Contrast\n",
    "Apply Blur\"\"\".split('\\n')"
   ]
  },
  {
   "cell_type": "code",
   "execution_count": null,
   "metadata": {},
   "outputs": [],
   "source": []
  },
  {
   "cell_type": "code",
   "execution_count": null,
   "metadata": {},
   "outputs": [],
   "source": []
  },
  {
   "cell_type": "code",
   "execution_count": null,
   "metadata": {},
   "outputs": [],
   "source": []
  }
 ],
 "metadata": {
  "kernelspec": {
   "display_name": "venv_vis",
   "language": "python",
   "name": "python3"
  },
  "language_info": {
   "codemirror_mode": {
    "name": "ipython",
    "version": 3
   },
   "file_extension": ".py",
   "mimetype": "text/x-python",
   "name": "python",
   "nbconvert_exporter": "python",
   "pygments_lexer": "ipython3",
   "version": "3.12.0"
  }
 },
 "nbformat": 4,
 "nbformat_minor": 2
}
